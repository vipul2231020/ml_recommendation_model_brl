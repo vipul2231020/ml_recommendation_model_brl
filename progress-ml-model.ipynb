{
 "cells": [
  {
   "cell_type": "markdown",
   "metadata": {},
   "source": [
    "# progress-ml-model\n",
    "\n",
    "Use the \"Run\" button to execute the code."
   ]
  },
  {
   "cell_type": "code",
   "execution_count": 59,
   "metadata": {},
   "outputs": [],
   "source": [
    "import pandas as pd\n",
    "import numpy as np"
   ]
  },
  {
   "cell_type": "code",
   "execution_count": 60,
   "metadata": {},
   "outputs": [],
   "source": [
    "df = pd.read_csv('tableConvert.com_d5ibz0.csv')"
   ]
  },
  {
   "cell_type": "code",
   "execution_count": 61,
   "metadata": {},
   "outputs": [
    {
     "data": {
      "text/html": [
       "<div>\n",
       "<style scoped>\n",
       "    .dataframe tbody tr th:only-of-type {\n",
       "        vertical-align: middle;\n",
       "    }\n",
       "\n",
       "    .dataframe tbody tr th {\n",
       "        vertical-align: top;\n",
       "    }\n",
       "\n",
       "    .dataframe thead th {\n",
       "        text-align: right;\n",
       "    }\n",
       "</style>\n",
       "<table border=\"1\" class=\"dataframe\">\n",
       "  <thead>\n",
       "    <tr style=\"text-align: right;\">\n",
       "      <th></th>\n",
       "      <th>ProjectID</th>\n",
       "      <th>TaskID</th>\n",
       "      <th>TaskDescription</th>\n",
       "      <th>ProjectDuration</th>\n",
       "      <th>TaskDuration</th>\n",
       "      <th>TaskEffort</th>\n",
       "      <th>ResourceAllocation</th>\n",
       "      <th>StartDate</th>\n",
       "      <th>EndDate</th>\n",
       "      <th>AssignedPerson</th>\n",
       "    </tr>\n",
       "  </thead>\n",
       "  <tbody>\n",
       "    <tr>\n",
       "      <th>0</th>\n",
       "      <td>1</td>\n",
       "      <td>101</td>\n",
       "      <td>Requirement Gathering</td>\n",
       "      <td>60</td>\n",
       "      <td>10</td>\n",
       "      <td>20</td>\n",
       "      <td>3</td>\n",
       "      <td>2023-01-01</td>\n",
       "      <td>2023-02-28</td>\n",
       "      <td>John Doe</td>\n",
       "    </tr>\n",
       "    <tr>\n",
       "      <th>1</th>\n",
       "      <td>1</td>\n",
       "      <td>102</td>\n",
       "      <td>Design</td>\n",
       "      <td>60</td>\n",
       "      <td>15</td>\n",
       "      <td>30</td>\n",
       "      <td>2</td>\n",
       "      <td>2023-03-01</td>\n",
       "      <td>2023-04-30</td>\n",
       "      <td>Jane Smith</td>\n",
       "    </tr>\n",
       "    <tr>\n",
       "      <th>2</th>\n",
       "      <td>1</td>\n",
       "      <td>103</td>\n",
       "      <td>Development</td>\n",
       "      <td>60</td>\n",
       "      <td>30</td>\n",
       "      <td>40</td>\n",
       "      <td>5</td>\n",
       "      <td>2023-05-01</td>\n",
       "      <td>2023-07-01</td>\n",
       "      <td>Bob Johnson</td>\n",
       "    </tr>\n",
       "    <tr>\n",
       "      <th>3</th>\n",
       "      <td>1</td>\n",
       "      <td>104</td>\n",
       "      <td>Testing</td>\n",
       "      <td>60</td>\n",
       "      <td>15</td>\n",
       "      <td>25</td>\n",
       "      <td>4</td>\n",
       "      <td>2023-07-02</td>\n",
       "      <td>2023-08-30</td>\n",
       "      <td>Alice Williams</td>\n",
       "    </tr>\n",
       "    <tr>\n",
       "      <th>4</th>\n",
       "      <td>2</td>\n",
       "      <td>201</td>\n",
       "      <td>Requirement Gathering</td>\n",
       "      <td>45</td>\n",
       "      <td>8</td>\n",
       "      <td>18</td>\n",
       "      <td>2</td>\n",
       "      <td>2023-02-01</td>\n",
       "      <td>2023-03-18</td>\n",
       "      <td>Charlie Brown</td>\n",
       "    </tr>\n",
       "    <tr>\n",
       "      <th>...</th>\n",
       "      <td>...</td>\n",
       "      <td>...</td>\n",
       "      <td>...</td>\n",
       "      <td>...</td>\n",
       "      <td>...</td>\n",
       "      <td>...</td>\n",
       "      <td>...</td>\n",
       "      <td>...</td>\n",
       "      <td>...</td>\n",
       "      <td>...</td>\n",
       "    </tr>\n",
       "    <tr>\n",
       "      <th>195</th>\n",
       "      <td>49</td>\n",
       "      <td>916</td>\n",
       "      <td>Testing</td>\n",
       "      <td>50</td>\n",
       "      <td>14</td>\n",
       "      <td>22</td>\n",
       "      <td>2</td>\n",
       "      <td>2023-07-16</td>\n",
       "      <td>2023-08-30</td>\n",
       "      <td>Henry Turner</td>\n",
       "    </tr>\n",
       "    <tr>\n",
       "      <th>196</th>\n",
       "      <td>50</td>\n",
       "      <td>917</td>\n",
       "      <td>Requirement Gathering</td>\n",
       "      <td>70</td>\n",
       "      <td>14</td>\n",
       "      <td>28</td>\n",
       "      <td>4</td>\n",
       "      <td>2023-01-10</td>\n",
       "      <td>2023-03-20</td>\n",
       "      <td>Elijah Walker</td>\n",
       "    </tr>\n",
       "    <tr>\n",
       "      <th>197</th>\n",
       "      <td>50</td>\n",
       "      <td>918</td>\n",
       "      <td>Design</td>\n",
       "      <td>70</td>\n",
       "      <td>20</td>\n",
       "      <td>35</td>\n",
       "      <td>3</td>\n",
       "      <td>2023-03-21</td>\n",
       "      <td>2023-05-20</td>\n",
       "      <td>Chloe Martinez</td>\n",
       "    </tr>\n",
       "    <tr>\n",
       "      <th>198</th>\n",
       "      <td>50</td>\n",
       "      <td>919</td>\n",
       "      <td>Development</td>\n",
       "      <td>70</td>\n",
       "      <td>38</td>\n",
       "      <td>50</td>\n",
       "      <td>6</td>\n",
       "      <td>2023-05-21</td>\n",
       "      <td>2023-08-05</td>\n",
       "      <td>Lucas Fisher</td>\n",
       "    </tr>\n",
       "    <tr>\n",
       "      <th>199</th>\n",
       "      <td>50</td>\n",
       "      <td>920</td>\n",
       "      <td>Testing</td>\n",
       "      <td>70</td>\n",
       "      <td>16</td>\n",
       "      <td>26</td>\n",
       "      <td>5</td>\n",
       "      <td>2023-08-06</td>\n",
       "      <td>2023-10-15</td>\n",
       "      <td>James Taylor</td>\n",
       "    </tr>\n",
       "  </tbody>\n",
       "</table>\n",
       "<p>200 rows × 10 columns</p>\n",
       "</div>"
      ],
      "text/plain": [
       "     ProjectID  TaskID        TaskDescription  ProjectDuration  TaskDuration  \\\n",
       "0            1     101  Requirement Gathering               60            10   \n",
       "1            1     102                 Design               60            15   \n",
       "2            1     103            Development               60            30   \n",
       "3            1     104                Testing               60            15   \n",
       "4            2     201  Requirement Gathering               45             8   \n",
       "..         ...     ...                    ...              ...           ...   \n",
       "195         49     916                Testing               50            14   \n",
       "196         50     917  Requirement Gathering               70            14   \n",
       "197         50     918                 Design               70            20   \n",
       "198         50     919            Development               70            38   \n",
       "199         50     920                Testing               70            16   \n",
       "\n",
       "     TaskEffort  ResourceAllocation   StartDate     EndDate  AssignedPerson  \n",
       "0            20                   3  2023-01-01  2023-02-28        John Doe  \n",
       "1            30                   2  2023-03-01  2023-04-30      Jane Smith  \n",
       "2            40                   5  2023-05-01  2023-07-01     Bob Johnson  \n",
       "3            25                   4  2023-07-02  2023-08-30  Alice Williams  \n",
       "4            18                   2  2023-02-01  2023-03-18   Charlie Brown  \n",
       "..          ...                 ...         ...         ...             ...  \n",
       "195          22                   2  2023-07-16  2023-08-30    Henry Turner  \n",
       "196          28                   4  2023-01-10  2023-03-20   Elijah Walker  \n",
       "197          35                   3  2023-03-21  2023-05-20  Chloe Martinez  \n",
       "198          50                   6  2023-05-21  2023-08-05    Lucas Fisher  \n",
       "199          26                   5  2023-08-06  2023-10-15    James Taylor  \n",
       "\n",
       "[200 rows x 10 columns]"
      ]
     },
     "execution_count": 61,
     "metadata": {},
     "output_type": "execute_result"
    }
   ],
   "source": [
    "df"
   ]
  },
  {
   "cell_type": "code",
   "execution_count": 62,
   "metadata": {},
   "outputs": [],
   "source": [
    "\n",
    "from sklearn.model_selection import train_test_split\n",
    "from sklearn.linear_model import LinearRegression\n",
    "from sklearn.metrics import mean_absolute_error, r2_score\n",
    "\n",
    "df['StartDate'] = pd.to_datetime(df['StartDate'])\n",
    "df['EndDate'] = pd.to_datetime(df['EndDate'])\n",
    "df['ProjectDuration'] = (df['EndDate'] - df['StartDate']).dt.days\n",
    "df['TaskStartDate'] = pd.to_datetime(df['StartDate']) + pd.to_timedelta(df['TaskDuration'], unit='D')\n"
   ]
  },
  {
   "cell_type": "markdown",
   "metadata": {},
   "source": [
    "##  task completion percentage"
   ]
  },
  {
   "cell_type": "code",
   "execution_count": 63,
   "metadata": {},
   "outputs": [],
   "source": [
    "df['TaskCompletion'] = (df['TaskDuration'] / df['ProjectDuration']) * 100"
   ]
  },
  {
   "cell_type": "markdown",
   "metadata": {},
   "source": [
    "## Selecting relevant features for training the model"
   ]
  },
  {
   "cell_type": "code",
   "execution_count": 64,
   "metadata": {},
   "outputs": [],
   "source": [
    "features = ['ProjectDuration', 'TaskDuration', 'ResourceAllocation']"
   ]
  },
  {
   "cell_type": "markdown",
   "metadata": {},
   "source": [
    "## Applying Linear Regression and splitting training and testing data "
   ]
  },
  {
   "cell_type": "code",
   "execution_count": 65,
   "metadata": {},
   "outputs": [
    {
     "name": "stdout",
     "output_type": "stream",
     "text": [
      "Mean Absolute Error: 1.6566857477098715\n",
      "R2 Score: 0.9708548890480743\n"
     ]
    }
   ],
   "source": [
    "\n",
    "X_train, X_test, y_train, y_test = train_test_split(df[features], df['TaskCompletion'], test_size=0.2, random_state=42)\n",
    "\n",
    "model = LinearRegression()\n",
    "model.fit(X_train, y_train)\n",
    "\n",
    "y_pred = model.predict(X_test)\n",
    "mae = mean_absolute_error(y_test, y_pred)\n",
    "print(f'Mean Absolute Error: {mae}')\n",
    "r2 = r2_score(y_test, y_pred)\n",
    "print(f'R2 Score: {r2}')"
   ]
  },
  {
   "cell_type": "markdown",
   "metadata": {},
   "source": [
    "## Task Completion prediction"
   ]
  },
  {
   "cell_type": "code",
   "execution_count": 67,
   "metadata": {},
   "outputs": [],
   "source": [
    "\n",
    "def evaluate_team_performance(ProjectID=None):\n",
    "    if ProjectID is not None:\n",
    "        team_data = df[df['ProjectID'] == ProjectID]\n",
    "\n",
    "        team_data.loc[:, 'StartDate'] = pd.to_datetime(team_data['StartDate'])\n",
    "        team_data.loc[:, 'EndDate'] = pd.to_datetime(team_data['EndDate'])\n",
    "        team_data.loc[:, 'ProjectDuration'] = (team_data['EndDate'] - team_data['StartDate']).dt.days\n",
    "        team_data.loc[:, 'TaskStartDate'] = team_data['StartDate'] + pd.to_timedelta(team_data['TaskDuration'], unit='D')\n",
    "        team_data.loc[:, 'TaskCompletion'] = (team_data['TaskDuration'] / team_data['ProjectDuration']) * 100\n",
    "\n",
    "        team_features = team_data[features]\n",
    "\n",
    " \n",
    "        team_data['PredictedTaskCompletion'] = model.predict(team_features)\n",
    "\n",
    "        print(f'\\nPredicted Task Completion for Project {ProjectID}:')\n",
    "        print(team_data[['TaskDescription', 'AssignedPerson', 'TaskCompletion', 'PredictedTaskCompletion']])\n"
   ]
  },
  {
   "cell_type": "code",
   "execution_count": 69,
   "metadata": {},
   "outputs": [
    {
     "name": "stdout",
     "output_type": "stream",
     "text": [
      "\n",
      "Predicted Task Completion for Project 8:\n",
      "          TaskDescription AssignedPerson  TaskCompletion  \\\n",
      "28  Requirement Gathering  Sophia Hughes       16.216216   \n",
      "29                 Design     Mia Turner       30.000000   \n",
      "30            Development   James Taylor       46.666667   \n",
      "31                Testing   Grace Walker       20.000000   \n",
      "\n",
      "    PredictedTaskCompletion  \n",
      "28                13.639251  \n",
      "29                29.899353  \n",
      "30                49.679469  \n",
      "31                18.000278  \n"
     ]
    },
    {
     "name": "stderr",
     "output_type": "stream",
     "text": [
      "C:\\Users\\Lenovo\\AppData\\Local\\Temp\\ipykernel_11056\\4180973003.py:14: SettingWithCopyWarning: \n",
      "A value is trying to be set on a copy of a slice from a DataFrame.\n",
      "Try using .loc[row_indexer,col_indexer] = value instead\n",
      "\n",
      "See the caveats in the documentation: https://pandas.pydata.org/pandas-docs/stable/user_guide/indexing.html#returning-a-view-versus-a-copy\n",
      "  team_data['PredictedTaskCompletion'] = model.predict(team_features)\n"
     ]
    }
   ],
   "source": [
    "evaluate_team_performance(ProjectID=8)"
   ]
  },
  {
   "cell_type": "code",
   "execution_count": null,
   "metadata": {},
   "outputs": [],
   "source": []
  },
  {
   "cell_type": "code",
   "execution_count": null,
   "metadata": {},
   "outputs": [],
   "source": []
  }
 ],
 "metadata": {
  "kernelspec": {
   "display_name": "Python 3 (ipykernel)",
   "language": "python",
   "name": "python3"
  },
  "language_info": {
   "codemirror_mode": {
    "name": "ipython",
    "version": 3
   },
   "file_extension": ".py",
   "mimetype": "text/x-python",
   "name": "python",
   "nbconvert_exporter": "python",
   "pygments_lexer": "ipython3",
   "version": "3.11.5"
  }
 },
 "nbformat": 4,
 "nbformat_minor": 2
}
